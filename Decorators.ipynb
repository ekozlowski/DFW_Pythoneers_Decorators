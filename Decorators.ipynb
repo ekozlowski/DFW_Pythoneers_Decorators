{
 "cells": [
  {
   "cell_type": "markdown",
   "metadata": {},
   "source": [
    "# Decorators"
   ]
  },
  {
   "cell_type": "markdown",
   "metadata": {},
   "source": [
    "Presented at DFW Pythoneers - May 4th, 2017 - Edward Kozlowski"
   ]
  },
  {
   "cell_type": "markdown",
   "metadata": {},
   "source": [
    "![Image of babushka dolls](http://legomenon.com/images/russian-matryoshka-stacking-babushka-wooden-dolls-meaning.jpg)\n"
   ]
  },
  {
   "cell_type": "markdown",
   "metadata": {},
   "source": [
    "<img alt=\"easy\" src=\"http://localhost:8000/easiest.png\" style=\"width: 200px; height: 200px;\" />"
   ]
  },
  {
   "cell_type": "markdown",
   "metadata": {},
   "source": [
    "### Consider the following"
   ]
  },
  {
   "cell_type": "code",
   "execution_count": 1,
   "metadata": {
    "collapsed": false
   },
   "outputs": [
    {
     "name": "stdout",
     "output_type": "stream",
     "text": [
      "In my_cool_function\n"
     ]
    }
   ],
   "source": [
    "def call_cool_function(function_x):\n",
    "    function_x()\n",
    "\n",
    "def my_cool_function():\n",
    "    print(\"In my_cool_function\")\n",
    "    \n",
    "\n",
    "call_cool_function(my_cool_function)  # <-- Note, we did not actually *call* the function."
   ]
  },
  {
   "cell_type": "markdown",
   "metadata": {},
   "source": [
    "### We can also define functions inside of functions and call them from inside the function they themselves are inside of."
   ]
  },
  {
   "cell_type": "code",
   "execution_count": 2,
   "metadata": {
    "collapsed": false
   },
   "outputs": [
    {
     "name": "stdout",
     "output_type": "stream",
     "text": [
      "outer\n",
      "inner\n",
      "leaving inner\n",
      "inner\n",
      "leaving inner\n",
      "leaving outer\n"
     ]
    }
   ],
   "source": [
    "def outer():\n",
    "    print(\"outer\")\n",
    "    def inner():\n",
    "        print(\"inner\")\n",
    "        print(\"leaving inner\")\n",
    "    # I call inner() here a couple times just to demonstrate that you can.\n",
    "    inner()\n",
    "    inner()\n",
    "    print(\"leaving outer\")\n",
    "\n",
    "outer()"
   ]
  },
  {
   "cell_type": "markdown",
   "metadata": {},
   "source": [
    "### We can also return new functions from functions.  *This is the *heart* of what decorators are about*."
   ]
  },
  {
   "cell_type": "code",
   "execution_count": 3,
   "metadata": {
    "collapsed": false
   },
   "outputs": [
    {
     "name": "stdout",
     "output_type": "stream",
     "text": [
      "I'm in newfunc\n",
      "Hi, my name is 'Ed'.\n",
      "Leaving newfunc\n",
      "I'm in newfunc\n",
      "I'm another method.\n",
      "Leaving newfunc\n"
     ]
    }
   ],
   "source": [
    "def decorate(func):\n",
    "    def newfunc(*args, **kwargs):\n",
    "        print(\"I'm in newfunc\")\n",
    "        result = func(*args, **kwargs)\n",
    "        print(\"Leaving newfunc\")\n",
    "        return result\n",
    "    return newfunc\n",
    "\n",
    "def say_hi():\n",
    "    print(\"Hi, my name is 'Ed'.\")\n",
    "\n",
    "def other_method():\n",
    "    print(\"I'm another method.\")\n",
    "    \n",
    "say_hi = decorate(say_hi)              #  <--- This is *KEY*\n",
    "other_method = decorate(other_method)  #  <--- This is *KEY*\n",
    "\n",
    "say_hi()\n",
    "other_method()"
   ]
  },
  {
   "cell_type": "markdown",
   "metadata": {},
   "source": [
    "It is ***sooo*** important to realize this is a TWO step process.\n",
    "\n",
    "The decorate method *accepts* a function, and returns a *new* function."
   ]
  },
  {
   "cell_type": "markdown",
   "metadata": {},
   "source": [
    "### Python has syntax for calling \"decorate(func)\" for you.  Same as before, just with the syntatic sugar."
   ]
  },
  {
   "cell_type": "code",
   "execution_count": 7,
   "metadata": {
    "collapsed": false
   },
   "outputs": [
    {
     "name": "stdout",
     "output_type": "stream",
     "text": [
      "I'm in newfunc\n",
      "Hi, my name is 'Ed'.\n",
      "Leaving newfunc\n",
      "I'm in newfunc\n",
      "I'm another method.\n",
      "Leaving newfunc\n"
     ]
    }
   ],
   "source": [
    "def decorate(func):\n",
    "    def newfunc(*args, **kwargs):\n",
    "        print(\"I'm in newfunc\")\n",
    "        result = func(*args, **kwargs)\n",
    "        print(\"Leaving newfunc\")\n",
    "        return result\n",
    "    return newfunc\n",
    "\n",
    "#@decorate  # <-- This is the addition\n",
    "def say_hi():\n",
    "    print(\"Hi, my name is 'Ed'.\")\n",
    "\n",
    "#@decorate  # <-- This is the addition\n",
    "def other_method():\n",
    "    print(\"I'm another method.\")\n",
    " \n",
    "#I left these in here to demonstrate the syntax you can skip with the @decorate\n",
    "say_hi = decorate(say_hi)\n",
    "other_method = decorate(other_method)\n",
    "\n",
    "say_hi()\n",
    "other_method()"
   ]
  },
  {
   "cell_type": "markdown",
   "metadata": {},
   "source": [
    "### An aside about *args and **kwargs\n",
    "\n",
    "*args is just \"star args\", or the variable part of the arguments to a function.\n",
    "\n",
    "**kwargs is \"Keyword ARGumentS\" - These are the arguments inside the signature that you're passing a name=value for.\n",
    "\n",
    "For example:"
   ]
  },
  {
   "cell_type": "code",
   "execution_count": 11,
   "metadata": {
    "collapsed": false
   },
   "outputs": [
    {
     "name": "stdout",
     "output_type": "stream",
     "text": [
      "foo(1, 2, 3)\n",
      "args: (1, 2, 3), kwargs: {}\n",
      "\n",
      "-----------------------\n",
      "\n",
      "foo(one=1, two=2, three=3)\n",
      "args: (), kwargs: {'one': 1, 'two': 2, 'three': 3}\n",
      "\n",
      "-----------------------\n",
      "\n",
      "foo(1, 2, 3, one=1, two=2, three=3)\n",
      "args: (1, 2, 3), kwargs: {'one': 1, 'two': 2, 'three': 3}\n"
     ]
    }
   ],
   "source": [
    "def foo(*args, **kwargs):\n",
    "    print(\"args: {}, kwargs: {}\".format(repr(args), repr(kwargs)))\n",
    "\n",
    "print(\"foo(1, 2, 3)\")\n",
    "foo(1, 2, 3)\n",
    "\n",
    "print('\\n-----------------------\\n')\n",
    "\n",
    "print(\"foo(one=1, two=2, three=3)\")\n",
    "foo(one=1, two=2, three=3)\n",
    "\n",
    "print('\\n-----------------------\\n')\n",
    "\n",
    "print(\"foo(1, 2, 3, one=1, two=2, three=3)\")\n",
    "foo(1, 2, 3, one=1, two=2, three=3)\n",
    "\n",
    "\n",
    "#foo(one=1, 2, 3)"
   ]
  },
  {
   "cell_type": "markdown",
   "metadata": {},
   "source": [
    "# Positional Argument Expansion\n"
   ]
  },
  {
   "cell_type": "code",
   "execution_count": 12,
   "metadata": {
    "collapsed": false
   },
   "outputs": [
    {
     "name": "stdout",
     "output_type": "stream",
     "text": [
      "[1, 2, 3]\n",
      "1 2 3\n",
      "I got 1 for first, 2 for second, and 3 for third.\n"
     ]
    }
   ],
   "source": [
    "args = [1,2,3]\n",
    "print(args)\n",
    "print(*args)\n",
    "\n",
    "def edsfunc(first, second, third):\n",
    "    print(\"I got {} for first, {} for second, and {} for third.\".format(first, second, third))\n",
    "\n",
    "edsfunc(*args)"
   ]
  },
  {
   "cell_type": "code",
   "execution_count": 13,
   "metadata": {
    "collapsed": false
   },
   "outputs": [
    {
     "ename": "TypeError",
     "evalue": "edsfunc() takes 3 positional arguments but 4 were given",
     "output_type": "error",
     "traceback": [
      "\u001b[0;31m---------------------------------------------------------------------------\u001b[0m",
      "\u001b[0;31mTypeError\u001b[0m                                 Traceback (most recent call last)",
      "\u001b[0;32m<ipython-input-13-5dd2f1a98a80>\u001b[0m in \u001b[0;36m<module>\u001b[0;34m()\u001b[0m\n\u001b[1;32m      3\u001b[0m \u001b[0mincorrect_amount_of_args\u001b[0m \u001b[0;34m=\u001b[0m \u001b[0;34m[\u001b[0m\u001b[0;36m1\u001b[0m\u001b[0;34m,\u001b[0m \u001b[0;36m2\u001b[0m\u001b[0;34m,\u001b[0m \u001b[0;36m3\u001b[0m\u001b[0;34m,\u001b[0m \u001b[0;36m4\u001b[0m\u001b[0;34m]\u001b[0m\u001b[0;34m\u001b[0m\u001b[0m\n\u001b[1;32m      4\u001b[0m \u001b[0;34m\u001b[0m\u001b[0m\n\u001b[0;32m----> 5\u001b[0;31m \u001b[0medsfunc\u001b[0m\u001b[0;34m(\u001b[0m\u001b[0;34m*\u001b[0m\u001b[0mincorrect_amount_of_args\u001b[0m\u001b[0;34m)\u001b[0m\u001b[0;34m\u001b[0m\u001b[0m\n\u001b[0m",
      "\u001b[0;31mTypeError\u001b[0m: edsfunc() takes 3 positional arguments but 4 were given"
     ]
    }
   ],
   "source": [
    "# What happens when we do this?\n",
    "\n",
    "incorrect_amount_of_args = [1, 2, 3, 4]\n",
    "\n",
    "edsfunc(*incorrect_amount_of_args)"
   ]
  },
  {
   "cell_type": "markdown",
   "metadata": {},
   "source": [
    "### Print accepts any number of arguments, and prints them with a space between each argument."
   ]
  },
  {
   "cell_type": "code",
   "execution_count": 14,
   "metadata": {
    "collapsed": false
   },
   "outputs": [
    {
     "name": "stdout",
     "output_type": "stream",
     "text": [
      "dakjjs 3 888 ninety <object object at 0x1019f4ae0>"
     ]
    }
   ],
   "source": [
    "# Print re-implemented:   ... well... kinda\n",
    "import sys\n",
    "def edsprint(*stuff, sep=\" \"):\n",
    "    stuff = [str(x) for x in stuff]\n",
    "    sys.stdout.write(sep.join(stuff))\n",
    "\n",
    "edsprint('dakjjs', 3, 888, \"ninety\", object())"
   ]
  },
  {
   "cell_type": "markdown",
   "metadata": {},
   "source": [
    "# Keyword Argument Expansion"
   ]
  },
  {
   "cell_type": "code",
   "execution_count": 15,
   "metadata": {
    "collapsed": false
   },
   "outputs": [
    {
     "name": "stdout",
     "output_type": "stream",
     "text": [
      "{'Ed': 39, 'Alisa': 29}\n"
     ]
    }
   ],
   "source": [
    "print({\"Ed\": 39, \"Alisa\": 29})\n"
   ]
  },
  {
   "cell_type": "code",
   "execution_count": 16,
   "metadata": {
    "collapsed": false
   },
   "outputs": [
    {
     "name": "stdout",
     "output_type": "stream",
     "text": [
      "{'Ed': 39, 'Alisa': 29}\n",
      "Ed Alisa\n"
     ]
    },
    {
     "ename": "TypeError",
     "evalue": "'Ed' is an invalid keyword argument for this function",
     "output_type": "error",
     "traceback": [
      "\u001b[0;31m---------------------------------------------------------------------------\u001b[0m",
      "\u001b[0;31mTypeError\u001b[0m                                 Traceback (most recent call last)",
      "\u001b[0;32m<ipython-input-16-326a65ca4a1d>\u001b[0m in \u001b[0;36m<module>\u001b[0;34m()\u001b[0m\n\u001b[1;32m      2\u001b[0m \u001b[0mprint\u001b[0m\u001b[0;34m(\u001b[0m\u001b[0mkwargs\u001b[0m\u001b[0;34m)\u001b[0m\u001b[0;34m\u001b[0m\u001b[0m\n\u001b[1;32m      3\u001b[0m \u001b[0mprint\u001b[0m\u001b[0;34m(\u001b[0m\u001b[0;34m*\u001b[0m\u001b[0mkwargs\u001b[0m\u001b[0;34m)\u001b[0m \u001b[0;31m#<- this just says \"for key in dict, print key\"\u001b[0m\u001b[0;34m\u001b[0m\u001b[0m\n\u001b[0;32m----> 4\u001b[0;31m \u001b[0mprint\u001b[0m\u001b[0;34m(\u001b[0m\u001b[0;34m**\u001b[0m\u001b[0mkwargs\u001b[0m\u001b[0;34m)\u001b[0m  \u001b[0;31m#<- Nope, won't work.\u001b[0m\u001b[0;34m\u001b[0m\u001b[0m\n\u001b[0m",
      "\u001b[0;31mTypeError\u001b[0m: 'Ed' is an invalid keyword argument for this function"
     ]
    }
   ],
   "source": [
    "kwargs = {'Ed': 39, 'Alisa': 29}\n",
    "print(kwargs)\n",
    "print(*kwargs) #<- this just says \"for key in dict, print key\"\n",
    "print(**kwargs)  #<- Nope, won't work.\n"
   ]
  },
  {
   "cell_type": "markdown",
   "metadata": {},
   "source": [
    "#### What is happening, is that we are trying to call the following:"
   ]
  },
  {
   "cell_type": "code",
   "execution_count": 17,
   "metadata": {
    "collapsed": false
   },
   "outputs": [
    {
     "ename": "TypeError",
     "evalue": "'Ed' is an invalid keyword argument for this function",
     "output_type": "error",
     "traceback": [
      "\u001b[0;31m---------------------------------------------------------------------------\u001b[0m",
      "\u001b[0;31mTypeError\u001b[0m                                 Traceback (most recent call last)",
      "\u001b[0;32m<ipython-input-17-d00faa90ee18>\u001b[0m in \u001b[0;36m<module>\u001b[0;34m()\u001b[0m\n\u001b[0;32m----> 1\u001b[0;31m \u001b[0mprint\u001b[0m\u001b[0;34m(\u001b[0m\u001b[0mEd\u001b[0m\u001b[0;34m=\u001b[0m\u001b[0;36m39\u001b[0m\u001b[0;34m,\u001b[0m \u001b[0mAlisa\u001b[0m\u001b[0;34m=\u001b[0m\u001b[0;36m29\u001b[0m\u001b[0;34m)\u001b[0m\u001b[0;34m\u001b[0m\u001b[0m\n\u001b[0m",
      "\u001b[0;31mTypeError\u001b[0m: 'Ed' is an invalid keyword argument for this function"
     ]
    }
   ],
   "source": [
    "print(Ed=39, Alisa=29)"
   ]
  },
  {
   "cell_type": "markdown",
   "metadata": {},
   "source": [
    "### The **var syntax means:  Expand the dictionary pointed to by \"var\", and use the keys as argument names, and the values as argument values.\n",
    "\n",
    "This is an incredibly powerful part of Python, and you will see this a *lot*."
   ]
  },
  {
   "cell_type": "code",
   "execution_count": 18,
   "metadata": {
    "collapsed": false
   },
   "outputs": [
    {
     "name": "stdout",
     "output_type": "stream",
     "text": [
      "a*b*c*d\n"
     ]
    }
   ],
   "source": [
    "# Print *does* accept a keyword argument of \"sep\".  It controls what separates the things you're printing out.\n",
    "# It defaults to space.\n",
    "\n",
    "# Let's try this:\n",
    "\n",
    "things = ['a','b','c','d']\n",
    "arg_dict = {'sep': '*'}\n",
    "\n",
    "print(*things, **arg_dict)\n",
    "\n",
    "# any idea what will happen?"
   ]
  },
  {
   "cell_type": "markdown",
   "metadata": {},
   "source": [
    "### Combining *args, and **kwargs lets us create \"pass thrus\" for functions."
   ]
  },
  {
   "cell_type": "code",
   "execution_count": 19,
   "metadata": {
    "collapsed": false
   },
   "outputs": [
    {
     "name": "stdout",
     "output_type": "stream",
     "text": [
      "Ed was here\n",
      "foo\n",
      "Ed was here\n",
      "a*2*34*888*something*<object object at 0x1019f4af0>\n"
     ]
    }
   ],
   "source": [
    "def new_print(*args, **kwargs):\n",
    "    print(\"Ed was here\")\n",
    "    print(*args, **kwargs)  # <-- Notice, we are still using stars here, and directly calling *print*.\n",
    "\n",
    "new_print(\"foo\")\n",
    "\n",
    "new_print(\"a\", 2, 34, 888, \"something\", object(), sep=\"*\")"
   ]
  },
  {
   "cell_type": "markdown",
   "metadata": {},
   "source": [
    "### So, what's all this got to do with Decorators then?"
   ]
  },
  {
   "cell_type": "markdown",
   "metadata": {},
   "source": [
    "Let's say we wanted a new print function that yells at people instead of prints.  We *only* want it to yell in all\n",
    "uppercase... Otherwise, we want to leave the functionality of \"print\" completely unchanged.\n"
   ]
  },
  {
   "cell_type": "code",
   "execution_count": 20,
   "metadata": {
    "collapsed": false
   },
   "outputs": [],
   "source": [
    "def yell(func):\n",
    "    def make_args_uppercase(*args, **kwargs):\n",
    "        # Now, we have to go through the *args, convert to strings, and convert them to uppercase.\n",
    "        args = [str(y) for y in args]  # convert to all strings.\n",
    "        args = [x.upper() for x in args] # convert to uppercase.\n",
    "        func(*args, **kwargs)  # call the original function, passing the semi-original args. ;)\n",
    "    return make_args_uppercase"
   ]
  },
  {
   "cell_type": "code",
   "execution_count": 21,
   "metadata": {
    "collapsed": false
   },
   "outputs": [
    {
     "name": "stdout",
     "output_type": "stream",
     "text": [
      "I~JUST~DECORATED~THE~PRINT~BUILT~IN!~888~<OBJECT OBJECT AT 0X1019F4B00>~B\n"
     ]
    }
   ],
   "source": [
    "# Time to have some fun.\n",
    "\n",
    "print = yell(print)  # \"Decorate\" the print function.\n",
    "\n",
    "print(\"I\", \"just\", \"decorated\", \"the\", \"print\", \"built\", \"in!\", 888, object(), 'b', sep=\"~\")    "
   ]
  },
  {
   "cell_type": "code",
   "execution_count": 27,
   "metadata": {
    "collapsed": false
   },
   "outputs": [
    {
     "name": "stdout",
     "output_type": "stream",
     "text": [
      "Caps lock is like cruise control for cool.\n",
      "Alisa\n"
     ]
    }
   ],
   "source": [
    "print(\"Caps lock is like cruise control for cool.\")\n",
    "\n",
    "print(\"Alisa\")"
   ]
  },
  {
   "cell_type": "code",
   "execution_count": 24,
   "metadata": {
    "collapsed": false
   },
   "outputs": [
    {
     "name": "stdout",
     "output_type": "stream",
     "text": [
      "<FUNCTION YELL.<LOCALS>.MAKE_ARGS_UPPERCASE AT 0X103774730>\n"
     ]
    }
   ],
   "source": [
    "print(print)  # Well, this is meta..."
   ]
  },
  {
   "cell_type": "code",
   "execution_count": 25,
   "metadata": {
    "collapsed": false
   },
   "outputs": [
    {
     "name": "stdout",
     "output_type": "stream",
     "text": [
      "hello\n"
     ]
    }
   ],
   "source": [
    "__builtins__.print(\"hello\")"
   ]
  },
  {
   "cell_type": "code",
   "execution_count": 28,
   "metadata": {
    "collapsed": false
   },
   "outputs": [
    {
     "name": "stdout",
     "output_type": "stream",
     "text": [
      "please let this be in lower case!\n"
     ]
    }
   ],
   "source": [
    "# Time to undo this madness.\n",
    "print = __builtins__.print\n",
    "\n",
    "print(\"please let this be in lower case!\")"
   ]
  },
  {
   "cell_type": "markdown",
   "metadata": {},
   "source": [
    "<img alt=\"moderate\" src=\"http://localhost:8000/moderate.jpg\" style=\"width: 200px; height: 200px;\" />"
   ]
  },
  {
   "cell_type": "markdown",
   "metadata": {},
   "source": [
    "### Side Effects of Decorators  (or \"Hello @wraps!\")"
   ]
  },
  {
   "cell_type": "markdown",
   "metadata": {},
   "source": [
    "#### Let's say you took your time to write some really cool doc on a function."
   ]
  },
  {
   "cell_type": "code",
   "execution_count": 29,
   "metadata": {
    "collapsed": false
   },
   "outputs": [],
   "source": [
    "def my_cool_func():\n",
    "    \"\"\"\n",
    "    Documentation!\n",
    "    \"\"\"\n",
    "    pass"
   ]
  },
  {
   "cell_type": "markdown",
   "metadata": {},
   "source": [
    "#### Now, you can get help for your func:"
   ]
  },
  {
   "cell_type": "code",
   "execution_count": 30,
   "metadata": {
    "collapsed": false
   },
   "outputs": [
    {
     "name": "stdout",
     "output_type": "stream",
     "text": [
      "Help on function my_cool_func in module __main__:\n",
      "\n",
      "my_cool_func()\n",
      "    Documentation!\n",
      "\n"
     ]
    }
   ],
   "source": [
    "help(my_cool_func)"
   ]
  },
  {
   "cell_type": "markdown",
   "metadata": {},
   "source": [
    "#### But let's say you decorate it..."
   ]
  },
  {
   "cell_type": "code",
   "execution_count": 31,
   "metadata": {
    "collapsed": true
   },
   "outputs": [],
   "source": [
    "def my_cool_decorator(func):\n",
    "    def inner(*args, **kwargs):\n",
    "        func(*args, **kwargs)\n",
    "    return inner\n",
    "\n",
    "@my_cool_decorator\n",
    "def my_cool_func():\n",
    "    \"\"\"\n",
    "    Documentation!\n",
    "    \"\"\"\n",
    "    pass"
   ]
  },
  {
   "cell_type": "code",
   "execution_count": 32,
   "metadata": {
    "collapsed": false
   },
   "outputs": [
    {
     "name": "stdout",
     "output_type": "stream",
     "text": [
      "Help on function inner in module __main__:\n",
      "\n",
      "inner(*args, **kwargs)\n",
      "\n"
     ]
    }
   ],
   "source": [
    "# So let's try to get help.\n",
    "help(my_cool_func)"
   ]
  },
  {
   "cell_type": "markdown",
   "metadata": {},
   "source": [
    "#### Several years ago when I was introduced to decorators, and learned about this:\n",
    "\n",
    "![Picture Boy Pouts](http://reactiongifs.me/wp-content/uploads/2013/08/sad-kid-reaction-gif.gif)"
   ]
  },
  {
   "cell_type": "markdown",
   "metadata": {},
   "source": [
    "#### Luckily the Python folks thought about this, and came up with a solution.  *ANOTHER* decorator!  YAY!"
   ]
  },
  {
   "cell_type": "code",
   "execution_count": 34,
   "metadata": {
    "collapsed": true
   },
   "outputs": [],
   "source": [
    "# my_cool_func take 2:\n",
    "\n",
    "from functools import wraps\n",
    "\n",
    "def my_cool_decorator(func):\n",
    "    @wraps(func) # <---  Use of @wraps\n",
    "    def inner(*args, **kwargs):\n",
    "        print(\"in inner\")\n",
    "        func(*args, **kwargs)\n",
    "        print(\"leaving inner\")\n",
    "    return inner\n",
    "\n",
    "@my_cool_decorator\n",
    "def my_cool_func():\n",
    "    \"\"\"\n",
    "    Documentation!\n",
    "    \"\"\"\n",
    "    print(\"my_cool_func\")"
   ]
  },
  {
   "cell_type": "code",
   "execution_count": 35,
   "metadata": {
    "collapsed": false
   },
   "outputs": [
    {
     "name": "stdout",
     "output_type": "stream",
     "text": [
      "Help on function my_cool_func in module __main__:\n",
      "\n",
      "my_cool_func()\n",
      "    Documentation!\n",
      "\n"
     ]
    }
   ],
   "source": [
    "# now let's try looking up help again.\n",
    "help(my_cool_func)"
   ]
  },
  {
   "cell_type": "markdown",
   "metadata": {},
   "source": [
    "### \\__wrapped\\__"
   ]
  },
  {
   "cell_type": "code",
   "execution_count": 36,
   "metadata": {
    "collapsed": false
   },
   "outputs": [
    {
     "name": "stdout",
     "output_type": "stream",
     "text": [
      "['__annotations__', '__call__', '__class__', '__closure__', '__code__', '__defaults__', '__delattr__', '__dict__', '__dir__', '__doc__', '__eq__', '__format__', '__ge__', '__get__', '__getattribute__', '__globals__', '__gt__', '__hash__', '__init__', '__init_subclass__', '__kwdefaults__', '__le__', '__lt__', '__module__', '__name__', '__ne__', '__new__', '__qualname__', '__reduce__', '__reduce_ex__', '__repr__', '__setattr__', '__sizeof__', '__str__', '__subclasshook__', '__wrapped__']\n"
     ]
    }
   ],
   "source": [
    "print(dir(my_cool_func))\n"
   ]
  },
  {
   "cell_type": "markdown",
   "metadata": {},
   "source": [
    "#### ! Wait.  What's \\__wrapped\\__?"
   ]
  },
  {
   "cell_type": "code",
   "execution_count": 37,
   "metadata": {
    "collapsed": false
   },
   "outputs": [
    {
     "name": "stdout",
     "output_type": "stream",
     "text": [
      "<function my_cool_func at 0x102313488>\n"
     ]
    }
   ],
   "source": [
    "print(my_cool_func.__wrapped__)"
   ]
  },
  {
   "cell_type": "markdown",
   "metadata": {},
   "source": [
    "#### A function!  Let's call it!"
   ]
  },
  {
   "cell_type": "code",
   "execution_count": 38,
   "metadata": {
    "collapsed": false
   },
   "outputs": [
    {
     "name": "stdout",
     "output_type": "stream",
     "text": [
      "my_cool_func\n"
     ]
    }
   ],
   "source": [
    "my_cool_func.__wrapped__()"
   ]
  },
  {
   "cell_type": "markdown",
   "metadata": {},
   "source": [
    "#### Hmmm.... This looks an awful lot like the original function."
   ]
  },
  {
   "cell_type": "markdown",
   "metadata": {},
   "source": [
    "####  .\\__wrapped\\__ is added by @wraps, and when called on the wrapped function, __wrapped__ provides access to the original \"undecorated\" function.\n",
    "####  Hmm..."
   ]
  },
  {
   "cell_type": "code",
   "execution_count": 39,
   "metadata": {
    "collapsed": false
   },
   "outputs": [
    {
     "ename": "AttributeError",
     "evalue": "'function' object has no attribute '__wrapped__'",
     "output_type": "error",
     "traceback": [
      "\u001b[0;31m---------------------------------------------------------------------------\u001b[0m",
      "\u001b[0;31mAttributeError\u001b[0m                            Traceback (most recent call last)",
      "\u001b[0;32m<ipython-input-39-ee5b6a0e26f8>\u001b[0m in \u001b[0;36m<module>\u001b[0;34m()\u001b[0m\n\u001b[0;32m----> 1\u001b[0;31m \u001b[0mprint\u001b[0m\u001b[0;34m(\u001b[0m\u001b[0mmy_cool_func\u001b[0m\u001b[0;34m.\u001b[0m\u001b[0m__wrapped__\u001b[0m\u001b[0;34m.\u001b[0m\u001b[0m__wrapped__\u001b[0m\u001b[0;34m)\u001b[0m\u001b[0;34m\u001b[0m\u001b[0m\n\u001b[0m",
      "\u001b[0;31mAttributeError\u001b[0m: 'function' object has no attribute '__wrapped__'"
     ]
    }
   ],
   "source": [
    "print(my_cool_func.__wrapped__.__wrapped__)"
   ]
  },
  {
   "cell_type": "markdown",
   "metadata": {},
   "source": [
    "#### Oops, too far.\n",
    "\n",
    "#### What happens if we wrap it more than once?\n",
    "\n",
    "#### my_cool_func take 3!"
   ]
  },
  {
   "cell_type": "code",
   "execution_count": 40,
   "metadata": {
    "collapsed": false
   },
   "outputs": [
    {
     "name": "stdout",
     "output_type": "stream",
     "text": [
      "my other cool decorator\n",
      "my cool decorator\n",
      "My cool func\n"
     ]
    }
   ],
   "source": [
    "from functools import wraps\n",
    "\n",
    "def my_cool_decorator(func):\n",
    "    @wraps(func) # <---  Use of @wraps\n",
    "    def inner(*args, **kwargs):\n",
    "        print(\"my cool decorator\")\n",
    "        func(*args, **kwargs)\n",
    "    return inner\n",
    "\n",
    "def my_other_cool_decorator(func):\n",
    "    @wraps(func) # <---  Use of @wraps\n",
    "    def inner(*args, **kwargs):\n",
    "        print(\"my other cool decorator\")\n",
    "        func(*args, **kwargs)\n",
    "    return inner\n",
    "\n",
    "@my_other_cool_decorator\n",
    "@my_cool_decorator\n",
    "def my_cool_func(name=\"Ed\"):\n",
    "    \"\"\"\n",
    "    Documentation!\n",
    "    \"\"\"\n",
    "    print(\"My cool func\")\n",
    "\n",
    "# Now, running this:\n",
    "my_cool_func()"
   ]
  },
  {
   "cell_type": "code",
   "execution_count": 41,
   "metadata": {
    "collapsed": false
   },
   "outputs": [
    {
     "name": "stdout",
     "output_type": "stream",
     "text": [
      "<function my_cool_func at 0x1037ecbf8>\n",
      "my other cool decorator\n",
      "my cool decorator\n",
      "My cool func\n",
      "<function my_cool_func at 0x1037ecb70>\n",
      "my cool decorator\n",
      "My cool func\n",
      "<function my_cool_func at 0x1037ecae8>\n",
      "My cool func\n",
      "Help on function my_cool_func in module __main__:\n",
      "\n",
      "my_cool_func(name='Ed')\n",
      "    Documentation!\n",
      "\n"
     ]
    }
   ],
   "source": [
    "print(my_cool_func)\n",
    "my_cool_func()\n",
    "\n",
    "print(my_cool_func.__wrapped__)\n",
    "my_cool_func.__wrapped__()\n",
    "\n",
    "print(my_cool_func.__wrapped__.__wrapped__)\n",
    "my_cool_func.__wrapped__.__wrapped__()\n",
    "\n",
    "# does my doc still work?\n",
    "help(my_cool_func)"
   ]
  },
  {
   "cell_type": "markdown",
   "metadata": {},
   "source": [
    "# HERE BE DRAGONS!\n",
    "\n",
    "<img alt=\"Dragons\" src=\"http://2.bp.blogspot.com/_D9a8fe6Tue8/RvIZrkGLDvI/AAAAAAAAABs/u8HV6yXGqBM/s400/Dragonpotter.bmp\" style=\"width: 300px; height: 300px;\" />\n",
    "\n",
    "* This is new in Python 3.4.  Prior to this, calls to func.\\__wrapped\\__ would just return the original function completely unwrapped, skipping all wrapping levels, or in some cases, not work at all.  *Looking at you 2.x series.*"
   ]
  },
  {
   "cell_type": "markdown",
   "metadata": {},
   "source": [
    "Essentially, `@wraps` copies the function metadata (func.\\__name\\__, func.\\__doc\\__, ... etc...) and applies it to the wrapped function, so we don't have to.  This also includes the function's signature."
   ]
  },
  {
   "cell_type": "code",
   "execution_count": 42,
   "metadata": {
    "collapsed": false
   },
   "outputs": [
    {
     "name": "stdout",
     "output_type": "stream",
     "text": [
      "(name='Ed')\n"
     ]
    }
   ],
   "source": [
    "from inspect import signature\n",
    "print(signature(my_cool_func))\n"
   ]
  },
  {
   "cell_type": "code",
   "execution_count": 43,
   "metadata": {
    "collapsed": true
   },
   "outputs": [],
   "source": [
    "# Let's define it without wraps first, and make it take an argument.\n",
    "def my_cool_decorator(func):\n",
    "    def inner(*args, **kwargs):\n",
    "        func(*args, **kwargs)\n",
    "    return inner\n",
    "\n",
    "@my_cool_decorator\n",
    "def my_cool_func(my_arg=None):\n",
    "    \"\"\"\n",
    "    Documentation!\n",
    "    \"\"\"\n",
    "    pass"
   ]
  },
  {
   "cell_type": "code",
   "execution_count": 44,
   "metadata": {
    "collapsed": false
   },
   "outputs": [
    {
     "name": "stdout",
     "output_type": "stream",
     "text": [
      "(*args, **kwargs)\n"
     ]
    }
   ],
   "source": [
    "print(signature(my_cool_func))"
   ]
  },
  {
   "cell_type": "code",
   "execution_count": 45,
   "metadata": {
    "collapsed": true
   },
   "outputs": [],
   "source": [
    "# Now with wraps\n",
    "def my_cool_decorator(func):\n",
    "    @wraps(func)\n",
    "    def inner(*args, **kwargs):\n",
    "        func(*args, **kwargs)\n",
    "    return inner\n",
    "\n",
    "@my_cool_decorator\n",
    "def my_cool_func(my_arg=None):\n",
    "    \"\"\"\n",
    "    Documentation!\n",
    "    \"\"\"\n",
    "    pass"
   ]
  },
  {
   "cell_type": "code",
   "execution_count": 46,
   "metadata": {
    "collapsed": false
   },
   "outputs": [
    {
     "name": "stdout",
     "output_type": "stream",
     "text": [
      "(my_arg=None)\n"
     ]
    }
   ],
   "source": [
    "print(signature(my_cool_func))"
   ]
  },
  {
   "cell_type": "markdown",
   "metadata": {},
   "source": [
    "<img alt=\"most_difficult\" src=\"http://localhost:8000/most_difficult.png\" style=\"width: 200px; height: 200px;\" />"
   ]
  },
  {
   "cell_type": "markdown",
   "metadata": {},
   "source": [
    "# Decorators That Take Arguments"
   ]
  },
  {
   "cell_type": "code",
   "execution_count": 53,
   "metadata": {
    "collapsed": false
   },
   "outputs": [
    {
     "name": "stdout",
     "output_type": "stream",
     "text": [
      "<somethign_else>\n",
      "This is in a para tag\n",
      "</somethign_else>\n",
      "\n"
     ]
    }
   ],
   "source": [
    "# Let's say we want to write a decorator that prepends and appends a user-defined html tag to the output of a function.\n",
    "from functools import wraps\n",
    "\n",
    "def htmltags(tag=None):  # <-- Why is this not wrong.  Shouldn't we accept a func?  ;)\n",
    "    def decorate(func):\n",
    "        @wraps(func)\n",
    "        def wrapper(*args, **kwargs):\n",
    "            return \"<{tag}>\\n{out}</{tag}>\\n\".format(tag=tag, out=func(*args, **kwargs))\n",
    "        return wrapper\n",
    "    return decorate\n",
    "\n",
    "@htmltags(tag=\"somethign_else\")\n",
    "def my_paragraph():\n",
    "    return \"This is in a para tag\\n\"\n",
    "\n",
    "print(my_paragraph())\n"
   ]
  },
  {
   "cell_type": "code",
   "execution_count": 54,
   "metadata": {
    "collapsed": false
   },
   "outputs": [
    {
     "name": "stdout",
     "output_type": "stream",
     "text": [
      "<html>\n",
      "<body>\n",
      "<div>\n",
      "<h1>\n",
      "Hello World!\n",
      "</h1>\n",
      "</div>\n",
      "</body>\n",
      "</html>\n",
      "\n"
     ]
    }
   ],
   "source": [
    "# Going crazy.  HTML page with decorators with arguments.\n",
    "\n",
    "@htmltags('html')\n",
    "@htmltags('body')\n",
    "@htmltags('div')\n",
    "@htmltags('h1')\n",
    "def my_page():\n",
    "    return \"Hello World!\\n\"\n",
    "\n",
    "print(my_page())"
   ]
  },
  {
   "cell_type": "markdown",
   "metadata": {},
   "source": [
    "## Dustier Corners"
   ]
  },
  {
   "cell_type": "markdown",
   "metadata": {},
   "source": [
    "<img alt=\"expert\" src=\"http://localhost:8000/expert.png\" style=\"width: 200px; height: 200px;\" />"
   ]
  },
  {
   "cell_type": "markdown",
   "metadata": {},
   "source": [
    "\n",
    "### Optional Arguments to Decorators"
   ]
  },
  {
   "cell_type": "code",
   "execution_count": 55,
   "metadata": {
    "collapsed": false
   },
   "outputs": [
    {
     "ename": "TypeError",
     "evalue": "'NoneType' object is not callable",
     "output_type": "error",
     "traceback": [
      "\u001b[0;31m---------------------------------------------------------------------------\u001b[0m",
      "\u001b[0;31mTypeError\u001b[0m                                 Traceback (most recent call last)",
      "\u001b[0;32m<ipython-input-55-48e6204e8a5b>\u001b[0m in \u001b[0;36m<module>\u001b[0;34m()\u001b[0m\n\u001b[1;32m      8\u001b[0m     \u001b[0;32mreturn\u001b[0m \u001b[0mwrapper\u001b[0m\u001b[0;34m\u001b[0m\u001b[0m\n\u001b[1;32m      9\u001b[0m \u001b[0;34m\u001b[0m\u001b[0m\n\u001b[0;32m---> 10\u001b[0;31m \u001b[0;34m@\u001b[0m\u001b[0mhtmltags\u001b[0m\u001b[0;34m(\u001b[0m\u001b[0mtag\u001b[0m\u001b[0;34m=\u001b[0m\u001b[0;34m'p'\u001b[0m\u001b[0;34m)\u001b[0m\u001b[0;34m\u001b[0m\u001b[0m\n\u001b[0m\u001b[1;32m     11\u001b[0m \u001b[0;32mdef\u001b[0m \u001b[0mmy_paragraph\u001b[0m\u001b[0;34m(\u001b[0m\u001b[0;34m)\u001b[0m\u001b[0;34m:\u001b[0m\u001b[0;34m\u001b[0m\u001b[0m\n\u001b[1;32m     12\u001b[0m     \u001b[0;32mreturn\u001b[0m \u001b[0;34m\"This is a paragraph\\n\"\u001b[0m\u001b[0;34m\u001b[0m\u001b[0m\n",
      "\u001b[0;32m<ipython-input-55-48e6204e8a5b>\u001b[0m in \u001b[0;36mwrapper\u001b[0;34m(*args, **kwargs)\u001b[0m\n\u001b[1;32m      5\u001b[0m     \u001b[0;34m@\u001b[0m\u001b[0mwraps\u001b[0m\u001b[0;34m(\u001b[0m\u001b[0mfunc\u001b[0m\u001b[0;34m)\u001b[0m\u001b[0;34m\u001b[0m\u001b[0m\n\u001b[1;32m      6\u001b[0m     \u001b[0;32mdef\u001b[0m \u001b[0mwrapper\u001b[0m\u001b[0;34m(\u001b[0m\u001b[0;34m*\u001b[0m\u001b[0margs\u001b[0m\u001b[0;34m,\u001b[0m \u001b[0;34m**\u001b[0m\u001b[0mkwargs\u001b[0m\u001b[0;34m)\u001b[0m\u001b[0;34m:\u001b[0m\u001b[0;34m\u001b[0m\u001b[0m\n\u001b[0;32m----> 7\u001b[0;31m         \u001b[0;32mreturn\u001b[0m \u001b[0;34m\"<{tag}>\\n{out}</{tag}>\\n\"\u001b[0m\u001b[0;34m.\u001b[0m\u001b[0mformat\u001b[0m\u001b[0;34m(\u001b[0m\u001b[0mtag\u001b[0m\u001b[0;34m=\u001b[0m\u001b[0mtag\u001b[0m\u001b[0;34m,\u001b[0m \u001b[0mout\u001b[0m\u001b[0;34m=\u001b[0m\u001b[0mfunc\u001b[0m\u001b[0;34m(\u001b[0m\u001b[0;34m*\u001b[0m\u001b[0margs\u001b[0m\u001b[0;34m,\u001b[0m \u001b[0;34m**\u001b[0m\u001b[0mkwargs\u001b[0m\u001b[0;34m)\u001b[0m\u001b[0;34m)\u001b[0m\u001b[0;34m\u001b[0m\u001b[0m\n\u001b[0m\u001b[1;32m      8\u001b[0m     \u001b[0;32mreturn\u001b[0m \u001b[0mwrapper\u001b[0m\u001b[0;34m\u001b[0m\u001b[0m\n\u001b[1;32m      9\u001b[0m \u001b[0;34m\u001b[0m\u001b[0m\n",
      "\u001b[0;31mTypeError\u001b[0m: 'NoneType' object is not callable"
     ]
    }
   ],
   "source": [
    "# The naive way:\n",
    "from functools import wraps\n",
    "\n",
    "def htmltags(func=None, tag=\"Default\"):\n",
    "    @wraps(func)\n",
    "    def wrapper(*args, **kwargs):\n",
    "        return \"<{tag}>\\n{out}</{tag}>\\n\".format(tag=tag, out=func(*args, **kwargs))\n",
    "    return wrapper\n",
    "\n",
    "@htmltags(tag='p')\n",
    "def my_paragraph():\n",
    "    return \"This is a paragraph\\n\"\n",
    "\n",
    "@htmltags\n",
    "def my_default():\n",
    "    return \"This is a default tag\\n\"\n",
    "\n",
    "print(my_default())\n",
    "print(my_paragraph())"
   ]
  },
  {
   "cell_type": "markdown",
   "metadata": {},
   "source": [
    "### Now, I struggled with this one a *lot*!  Apparently, when decorators are created, the initial call to the decorator is passed with the function being decorated being \"None\".  This is because when we put parens after the @decorator, Python assumes we are passing *all* of the arguments to construct the decorator.\n",
    "\n",
    "We have to recall the calling order.\n",
    "\n",
    "```\n",
    "@htmltags(tag=p)\n",
    "def my_paragraph():\n",
    "```\n",
    "\n",
    "Translates to:\n",
    "\n",
    "```my_paragraph = htmltags(func=None, tag=p)(my_paragraph)```\n",
    "\n",
    "In other words, htmltags(func=None, tag=p) gets evaluated **first**, the decorator (wrapper) never sees \"func\", and the wrapper fails, because indeed, the NoneType 'func' is not callable, and the function fails.\n",
    "\n",
    "To get around this, we can use a partial to construct a decorator from our decorator so that our optional arguments are evaulated."
   ]
  },
  {
   "cell_type": "code",
   "execution_count": 63,
   "metadata": {
    "collapsed": false
   },
   "outputs": [
    {
     "name": "stdout",
     "output_type": "stream",
     "text": [
      "<Default>\n",
      "This is a default tag\n",
      "</Default>\n",
      "\n",
      "<p>\n",
      "This is a paragraph\n",
      "</p>\n",
      "\n"
     ]
    }
   ],
   "source": [
    "# The \"proper\" way\n",
    "\n",
    "from functools import wraps\n",
    "from functools import partial\n",
    "\n",
    "def htmltags(func=None, tag=\"Default\"):\n",
    "    if func is None:\n",
    "        return partial(htmltags, tag=tag)  \n",
    "    @wraps(func)\n",
    "    def wrapper(*args, **kwargs):\n",
    "        return \"<{tag}>\\n{out}</{tag}>\\n\".format(tag=tag, out=func(*args, **kwargs))\n",
    "    return wrapper\n",
    "\n",
    "@htmltags(tag='p')\n",
    "def my_paragraph():\n",
    "    return \"This is a paragraph\\n\"\n",
    "\n",
    "@htmltags\n",
    "def my_default():\n",
    "    return \"This is a default tag\\n\"\n",
    "\n",
    "print(my_default())\n",
    "print(my_paragraph())\n"
   ]
  },
  {
   "cell_type": "code",
   "execution_count": 57,
   "metadata": {
    "collapsed": false
   },
   "outputs": [
    {
     "name": "stdout",
     "output_type": "stream",
     "text": [
      "8\n"
     ]
    }
   ],
   "source": [
    "from operator import mul\n",
    "double = partial(mul, 2)\n",
    "\n",
    "print(double(4))"
   ]
  },
  {
   "cell_type": "code",
   "execution_count": null,
   "metadata": {
    "collapsed": true
   },
   "outputs": [],
   "source": []
  },
  {
   "cell_type": "markdown",
   "metadata": {},
   "source": [
    "#### Decorating our Decorator\n",
    "\n",
    "This code:\n",
    "\n",
    "```\n",
    "@htmltags\n",
    "def my_default():\n",
    "```\n",
    "\n",
    "Is easy to understand.  It becomes:\n",
    "\n",
    "```\n",
    "htmltags(my_default)()\n",
    "```\n",
    "\n",
    "In this code:\n",
    "\n",
    "```\n",
    "@htmltags(tag='p')\n",
    "def my_paragraph()\n",
    "```\n",
    "\n",
    "Translates to:\n",
    "\n",
    "```\n",
    "my_paragraph = htmltags(func=None, tag='p')(my_paragraph)()\n",
    "```\n",
    "\n",
    "The section:\n",
    "\n",
    "```\n",
    "htmltags(func=None, tag='p')\n",
    "```\n",
    "\n",
    "Is evaluated first, to try and construct the decorator.  This time, since func is None, we have to return a partial from the first call.  The partial is the htmltags function itself, which constructs *another* decorator with the tag defaulted to what we passed in.\n",
    "\n",
    "So we get:\n",
    "\n",
    "```\n",
    "my_paragraph = htmltags(my_paragraph)\n",
    "```\n",
    "\n",
    "Except *this* htmltags decorator defaults the tag as we had specified.\n"
   ]
  },
  {
   "cell_type": "markdown",
   "metadata": {},
   "source": [
    "# Decorators With Classes\n",
    "\n",
    "<img src=\"https://pbs.twimg.com/profile_images/419232639246020608/sVo1VbHb.jpeg\" alt=\"Kid with Decorated Class\" style=\"width: 350px; height: 300px\"/>"
   ]
  },
  {
   "cell_type": "markdown",
   "metadata": {
    "collapsed": true
   },
   "source": [
    "### Classmethods\n",
    "\n",
    "A classmethod must have a reference to a class as its first parameter.  Not a reference to \"self\", (the instance), but a reference to a *class*.\n",
    "\n",
    "Classmethods can be useful for creating alternate constructors for classes."
   ]
  },
  {
   "cell_type": "code",
   "execution_count": 66,
   "metadata": {
    "collapsed": false
   },
   "outputs": [
    {
     "name": "stdout",
     "output_type": "stream",
     "text": [
      "The Stand by Stephen King\n",
      "Armor by John Steakley\n",
      "The Hobbit by J.R.R. Tolkien\n"
     ]
    }
   ],
   "source": [
    "# Ex:\n",
    "\n",
    "isbns = {\n",
    "    1: (\"The Hobbit\", \"J.R.R. Tolkien\"),\n",
    "    2: (\"Armor\", \"John Steakley\")\n",
    "}\n",
    "\n",
    "class Book:\n",
    "    \n",
    "    def __init__(self, title, author):\n",
    "        self.title = title\n",
    "        self.author = author\n",
    "    \n",
    "    def print_title(self):\n",
    "        print(\"{} by {}\".format(self.title, self.author))\n",
    "    \n",
    "    @classmethod\n",
    "    def from_isbn(cls, isbn):\n",
    "        # Lookup title and author from isbn:\n",
    "        title, author = isbns.get(isbn)\n",
    "        # return an instance of this class.\n",
    "        return cls(title=title, author=author)  # Notice, we're saying cls(title=...) and not self(title=...)\n",
    "\n",
    "Book(title=\"The Stand\", author=\"Stephen King\").print_title()\n",
    "\n",
    "# semi-equivalent to from_isbn(Book, 2)... but not exactly.\n",
    "b_obj = Book.from_isbn(2)\n",
    "b_obj.print_title()\n",
    "\n",
    "Book.from_isbn(1).print_title()"
   ]
  },
  {
   "cell_type": "markdown",
   "metadata": {},
   "source": [
    "### Staticmethods\n",
    "\n",
    "A Staticmethod does not take either a class reference, or an instance reference as its first parameter.  It can be referred to by both the `self.my_static_method(args)` syntax, as well as the `Class.my_static_method(args)` syntax.\n",
    "\n",
    "The caveat here is that static methods have no access to the instances that they're used in.  (You lose access to 'self').\n",
    "\n",
    "This is useful if you have a method that logically belongs with a class, but doesn't necessarily require the instantiation of the class."
   ]
  },
  {
   "cell_type": "code",
   "execution_count": 70,
   "metadata": {
    "collapsed": false
   },
   "outputs": [
    {
     "name": "stdout",
     "output_type": "stream",
     "text": [
      "True\n",
      "True\n"
     ]
    }
   ],
   "source": [
    "# Back to our library example:\n",
    "\n",
    "isbns = {\n",
    "    1: (\"The Hobbit\", \"J.R.R. Tolkien\"),\n",
    "    2: (\"Armor\", \"John Steakley\")\n",
    "}\n",
    "\n",
    "class Book:\n",
    "    \n",
    "    def __init__(self, title, author):\n",
    "        self.title = title\n",
    "        self.author = author\n",
    "        \n",
    "    def print_title(self):\n",
    "        print(\"{} by {}\".format(self.title, self.author))\n",
    "    \n",
    "    @classmethod\n",
    "    def from_isbn(cls, isbn):\n",
    "        # Lookup title and author from isbn:\n",
    "        title, author = isbns.get(isbn)\n",
    "        # return an instance of this class.\n",
    "        return cls(title=title, author=author)\n",
    "    \n",
    "    @staticmethod\n",
    "    def is_valid_isbn(isbn):\n",
    "        # I realize *real* ISBN's actually HAVE a valid format... this is just a trivial example.\n",
    "        if isinstance(isbn, int):\n",
    "            return True\n",
    "        return False\n",
    "\n",
    "# Now we can use the is_valid_isbn both inside and outside the Book instance.\n",
    "print(Book.is_valid_isbn(2))\n",
    "b = Book.from_isbn(2)\n",
    "print(b.is_valid_isbn(1))"
   ]
  },
  {
   "cell_type": "code",
   "execution_count": 73,
   "metadata": {
    "collapsed": false
   },
   "outputs": [
    {
     "name": "stdout",
     "output_type": "stream",
     "text": [
      "Decorator 1\n",
      "Spam!\n",
      "Decorator 2\n",
      "Grok!\n",
      "Decorator 3\n",
      "foo\n",
      "Decorator 3\n",
      "bar\n"
     ]
    }
   ],
   "source": [
    "from functools import wraps\n",
    "\n",
    "class A:\n",
    "    # Decorator as an instance method\n",
    "    def decorator1(self, func):  # <-- We need to provide 'self' here since we're part of the class.\n",
    "        @wraps(func)\n",
    "        def wrapper(*args, **kwargs):\n",
    "            print(\"Decorator 1\")\n",
    "            return func(*args, **kwargs)\n",
    "        return wrapper\n",
    "    \n",
    "    # Decorator as a classmethod\n",
    "    @classmethod\n",
    "    def decorator2(cls, func):  # <-- We need to provide 'cls' since we're a classmethod.\n",
    "        @wraps(func)\n",
    "        def wrapper(*args, **kwargs):\n",
    "            print(\"Decorator 2\")\n",
    "            return func(*args, **kwargs)\n",
    "        return wrapper\n",
    "\n",
    "    # Decorator as a staticmethod\n",
    "    @staticmethod\n",
    "    def decorator3(func):  # <-- We need to provide 'cls' since we're a classmethod.\n",
    "        @wraps(func)\n",
    "        def wrapper(*args, **kwargs):\n",
    "            print(\"Decorator 3\")\n",
    "            return func(*args, **kwargs)\n",
    "        return wrapper\n",
    "# As an instance method:\n",
    "a = A()\n",
    "\n",
    "# As a regular method\n",
    "@a.decorator1\n",
    "def spam():\n",
    "    print(\"Spam!\")\n",
    "    \n",
    "#As a class method\n",
    "@A.decorator2\n",
    "def grok():\n",
    "    print(\"Grok!\")\n",
    "\n",
    "# As a static method\n",
    "@a.decorator3\n",
    "def foo():\n",
    "    print(\"foo\")\n",
    "\n",
    "@A.decorator3\n",
    "def bar():\n",
    "    print(\"bar\")\n",
    "\n",
    "spam()\n",
    "grok()\n",
    "foo()\n",
    "bar()\n",
    "\n",
    "        "
   ]
  },
  {
   "cell_type": "code",
   "execution_count": 77,
   "metadata": {
    "collapsed": false
   },
   "outputs": [
    {
     "name": "stdout",
     "output_type": "stream",
     "text": [
      "2\n"
     ]
    }
   ],
   "source": [
    "import random\n",
    "my_list = list(range(1,20))\n",
    "random.shuffle(my_list)\n",
    "print(my_list.pop())"
   ]
  },
  {
   "cell_type": "code",
   "execution_count": null,
   "metadata": {
    "collapsed": false
   },
   "outputs": [],
   "source": [
    "# Applying class decorators with inheritance:\n",
    "\n",
    "class B(A):\n",
    "\n",
    "    # We call '@a' because decorator 1 is defined as a method in class 'A', and as such, is *only* accessible from\n",
    "    # the 'a' instance of class 'A'.\n",
    "    @a.decorator1\n",
    "    def foo(self):\n",
    "        print(\"Foo!\")\n",
    "        \n",
    "    # We call '@A' here because decorator 2 is defined as a classmethod, and as such is accessible as an attribute of\n",
    "    # the 'A' class.\n",
    "    @A.decorator2\n",
    "    def bar(self):\n",
    "        print(\"Bar!\")\n",
    "\n",
    "b_obj = B()\n",
    "b_obj.foo()\n",
    "b_obj.bar()"
   ]
  },
  {
   "cell_type": "markdown",
   "metadata": {
    "collapsed": false
   },
   "source": [
    "## Decorators *as* classes"
   ]
  },
  {
   "cell_type": "code",
   "execution_count": null,
   "metadata": {
    "collapsed": false
   },
   "outputs": [],
   "source": [
    "# To implement a decorator as a class, you have to implement both the __call__ and the __get__ methods.\n",
    "\n",
    "# This is where I was in my presentation when I ran out of time.  This does work, and we can discuss.\n",
    "\n",
    "import types\n",
    "from functools import wraps\n",
    "\n",
    "class Profiled:\n",
    "    def __init__(self, func):\n",
    "        wraps(func)(self)\n",
    "        self.ncalls = 0\n",
    "    \n",
    "    def __call__(self, *args, **kwargs):\n",
    "        print(\"Call called\")\n",
    "        self.ncalls += 1\n",
    "        return self.__wrapped__(*args, **kwargs)\n",
    "\n",
    "    # Whenever functions implementing methods are looked up in a class, their __get__ method is invoked.\n",
    "    # The purpose of __get__ is to provide a bound method object, which ultimately supplies \"self\" to the method.\n",
    "    def __get__(self, instance, cls):\n",
    "        print(\"Get called!\")\n",
    "        if instance is None:\n",
    "            print(\"Instance is none\")\n",
    "            return self\n",
    "        else:\n",
    "            print(\"Instance is {}\".format(instance))\n",
    "            return types.MethodType(self, instance)\n",
    "\n",
    "# usage:\n",
    "@Profiled\n",
    "def add(x, y):\n",
    "    return x + y\n",
    "\n",
    "class Spam:\n",
    "    @Profiled\n",
    "    def bar(self, x):\n",
    "        print(self, x)\n",
    "\n",
    "add(2,3)\n",
    "add(4,5)\n",
    "print(\"add calls: {}\".format(add.ncalls))\n",
    "\n",
    "s = Spam()\n",
    "s.bar(1)\n",
    "s.bar(2)\n",
    "s.bar(3)\n",
    "print(\"Spam.bar calls: {}\".format(Spam.bar.ncalls))  # <-- \"Instance is none\"  (we're referencing the class directly)\n",
    "\n",
    "\n",
    "    "
   ]
  },
  {
   "cell_type": "markdown",
   "metadata": {
    "collapsed": true
   },
   "source": [
    "### One of my favorite decorators"
   ]
  },
  {
   "cell_type": "code",
   "execution_count": null,
   "metadata": {
    "collapsed": false
   },
   "outputs": [],
   "source": [
    "class Person:\n",
    "    \n",
    "    def __init__(self, name, age):\n",
    "        self.name = name\n",
    "        self.age = age\n",
    "\n",
    "    def say_hi(self):\n",
    "        print(\"My name is {} and I am {} years old.\".format(self.name, self.age))\n",
    "        \n",
    "me = Person('Ed', 39)\n",
    "wife = Person('Alisa', 41)  # I'm a dead man.\n",
    "\n",
    "me.say_hi()\n",
    "wife.say_hi()\n",
    "\n",
    "wife.age = 29  # Much better.\n",
    "\n",
    "me.say_hi()\n",
    "wife.say_hi()"
   ]
  },
  {
   "cell_type": "code",
   "execution_count": null,
   "metadata": {
    "collapsed": false
   },
   "outputs": [],
   "source": [
    "# Let's convert Person to be a little smarter about my wife's age.  She's never a day over 29.  :)\n",
    "\n",
    "class Person:\n",
    "    \n",
    "    def __init__(self, name, age):\n",
    "        self.name = name\n",
    "        self._age = age    # <--- This changed.\n",
    "\n",
    "    @property                                    # <--- Added\n",
    "    def age(self):                               #   |\n",
    "        if self.name == \"Alisa\": return 29       #   | *wink* *wink* *nudge* *nudge*\n",
    "        return self._age                         #   |\n",
    "    \n",
    "    @age.setter                                  # <-- We added this too.\n",
    "    def age(self, age):                          #   |\n",
    "        if self.name == 'Alisa' and age > 29:    #   |\n",
    "            self._age = 29                       #   |  Save my life.\n",
    "        else:                                    #   | \n",
    "            self._age = age                      #   |\n",
    "\n",
    "#------------------------------------------------------------------------------------------------\n",
    "# Extra special note!\n",
    "# From here below stayed *exactly* the same.  I'm not calling person.age_setter(age).  :)\n",
    "#------------------------------------------------------------------------------------------------\n",
    "\n",
    "    def say_hi(self):\n",
    "        print(\"My name is {} and I am {} years old.\".format(self.name, self.age))\n",
    "        \n",
    "me = Person('Ed', 39)\n",
    "wife = Person('Alisa', 41)  # I'm a dead man...  Or am I?\n",
    "\n",
    "me.say_hi()\n",
    "wife.say_hi()\n",
    "\n",
    "wife.age = 29  # Much better.\n",
    "\n",
    "me.say_hi()\n",
    "wife.say_hi()"
   ]
  },
  {
   "cell_type": "markdown",
   "metadata": {
    "collapsed": true
   },
   "source": [
    "# Credits\n",
    "\n",
    "- David Beazley & Brian K. Jones - Python Cookbook version 3  (Without which I would never have understood the use of partial to decorate the decorator with optional arguments.)\n",
    "\n"
   ]
  },
  {
   "cell_type": "code",
   "execution_count": null,
   "metadata": {
    "collapsed": true
   },
   "outputs": [],
   "source": []
  }
 ],
 "metadata": {
  "kernelspec": {
   "display_name": "Python 3",
   "language": "python",
   "name": "python3"
  },
  "language_info": {
   "codemirror_mode": {
    "name": "ipython",
    "version": 3
   },
   "file_extension": ".py",
   "mimetype": "text/x-python",
   "name": "python",
   "nbconvert_exporter": "python",
   "pygments_lexer": "ipython3",
   "version": "3.6.0"
  }
 },
 "nbformat": 4,
 "nbformat_minor": 2
}
